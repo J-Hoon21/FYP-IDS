{
 "cells": [
  {
   "cell_type": "code",
   "execution_count": 1,
   "id": "d2e6a2a3-c2c4-4fbf-9882-d34efc0a4bbd",
   "metadata": {},
   "outputs": [],
   "source": [
    "# Importing required libraries\n",
    "import numpy as np\n",
    "import pandas as pd\n",
    "import seaborn as sns\n",
    "import matplotlib.pyplot as plt\n",
    "import pickle\n",
    "from os import path\n",
    "import os\n",
    "\n",
    "# Importing necessary classes for data preprocessing\n",
    "from sklearn.preprocessing import MinMaxScaler\n",
    "from sklearn.preprocessing import StandardScaler\n",
    "from sklearn.preprocessing import LabelEncoder\n",
    "\n",
    "# Importing functions for evaluating model performance\n",
    "from sklearn import metrics\n",
    "from sklearn.metrics import accuracy_score\n",
    "from sklearn.metrics import classification_report\n",
    "\n",
    "# Importing functions for data splitting and training models\n",
    "from sklearn.model_selection import train_test_split\n",
    "\n",
    "# Importing various machine learning algorithms\n",
    "from sklearn.svm import SVC  # Support Vector Classifier\n",
    "from sklearn.linear_model import LinearRegression\n",
    "from sklearn.linear_model import LogisticRegression\n",
    "from sklearn.tree import DecisionTreeClassifier\n",
    "from sklearn.ensemble import RandomForestClassifier\n",
    "from sklearn.neighbors import KNeighborsClassifier\n",
    "from sklearn.neural_network import MLPClassifier"
   ]
  },
  {
   "cell_type": "code",
   "execution_count": 2,
   "id": "f1142109-77b8-452f-acee-e33071fede63",
   "metadata": {},
   "outputs": [],
   "source": [
    "df = pd.read_csv(\"C:\\\\Users\\\\user\\\\Documents\\\\jupyter\\\\Enhanced IDS\\\\Dataset\\\\df_visualized.csv\")"
   ]
  },
  {
   "cell_type": "code",
   "execution_count": 3,
   "id": "b149344a-a836-47da-8e36-240858e68345",
   "metadata": {},
   "outputs": [
    {
     "data": {
      "text/plain": [
       "(426331, 68)"
      ]
     },
     "execution_count": 3,
     "metadata": {},
     "output_type": "execute_result"
    }
   ],
   "source": [
    "df.shape"
   ]
  },
  {
   "cell_type": "code",
   "execution_count": 4,
   "id": "d517aff9-d39c-4917-94e9-ae799f84c086",
   "metadata": {},
   "outputs": [
    {
     "data": {
      "text/plain": [
       " Label\n",
       "7     39850\n",
       "11    39744\n",
       "6     39417\n",
       "10    39221\n",
       "2     39064\n",
       "3     38952\n",
       "4     37786\n",
       "1     37420\n",
       "8     36529\n",
       "9     35954\n",
       "5     27447\n",
       "0     14941\n",
       "12        6\n",
       "Name: count, dtype: int64"
      ]
     },
     "execution_count": 4,
     "metadata": {},
     "output_type": "execute_result"
    }
   ],
   "source": [
    "df[' Label'].value_counts()"
   ]
  },
  {
   "cell_type": "code",
   "execution_count": 5,
   "id": "401b66a1-c118-4e53-8ab7-18f8438fa225",
   "metadata": {},
   "outputs": [
    {
     "data": {
      "text/html": [
       "<div>\n",
       "<style scoped>\n",
       "    .dataframe tbody tr th:only-of-type {\n",
       "        vertical-align: middle;\n",
       "    }\n",
       "\n",
       "    .dataframe tbody tr th {\n",
       "        vertical-align: top;\n",
       "    }\n",
       "\n",
       "    .dataframe thead th {\n",
       "        text-align: right;\n",
       "    }\n",
       "</style>\n",
       "<table border=\"1\" class=\"dataframe\">\n",
       "  <thead>\n",
       "    <tr style=\"text-align: right;\">\n",
       "      <th></th>\n",
       "      <th>Protocol</th>\n",
       "      <th>Flow Duration</th>\n",
       "      <th>Total Fwd Packets</th>\n",
       "      <th>Total Backward Packets</th>\n",
       "      <th>Total Length of Fwd Packets</th>\n",
       "      <th>Total Length of Bwd Packets</th>\n",
       "      <th>Fwd Packet Length Max</th>\n",
       "      <th>Fwd Packet Length Min</th>\n",
       "      <th>Fwd Packet Length Mean</th>\n",
       "      <th>Fwd Packet Length Std</th>\n",
       "      <th>...</th>\n",
       "      <th>Active Mean</th>\n",
       "      <th>Active Std</th>\n",
       "      <th>Active Max</th>\n",
       "      <th>Active Min</th>\n",
       "      <th>Idle Mean</th>\n",
       "      <th>Idle Std</th>\n",
       "      <th>Idle Max</th>\n",
       "      <th>Idle Min</th>\n",
       "      <th>Inbound</th>\n",
       "      <th>Label</th>\n",
       "    </tr>\n",
       "  </thead>\n",
       "  <tbody>\n",
       "    <tr>\n",
       "      <th>0</th>\n",
       "      <td>17</td>\n",
       "      <td>28415</td>\n",
       "      <td>97</td>\n",
       "      <td>0</td>\n",
       "      <td>42680.0</td>\n",
       "      <td>0.0</td>\n",
       "      <td>440.0</td>\n",
       "      <td>440.0</td>\n",
       "      <td>440.0</td>\n",
       "      <td>0.0</td>\n",
       "      <td>...</td>\n",
       "      <td>0.0</td>\n",
       "      <td>0.0</td>\n",
       "      <td>0.0</td>\n",
       "      <td>0.0</td>\n",
       "      <td>0.0</td>\n",
       "      <td>0.0</td>\n",
       "      <td>0.0</td>\n",
       "      <td>0.0</td>\n",
       "      <td>1</td>\n",
       "      <td>1</td>\n",
       "    </tr>\n",
       "    <tr>\n",
       "      <th>1</th>\n",
       "      <td>17</td>\n",
       "      <td>2</td>\n",
       "      <td>2</td>\n",
       "      <td>0</td>\n",
       "      <td>880.0</td>\n",
       "      <td>0.0</td>\n",
       "      <td>440.0</td>\n",
       "      <td>440.0</td>\n",
       "      <td>440.0</td>\n",
       "      <td>0.0</td>\n",
       "      <td>...</td>\n",
       "      <td>0.0</td>\n",
       "      <td>0.0</td>\n",
       "      <td>0.0</td>\n",
       "      <td>0.0</td>\n",
       "      <td>0.0</td>\n",
       "      <td>0.0</td>\n",
       "      <td>0.0</td>\n",
       "      <td>0.0</td>\n",
       "      <td>0</td>\n",
       "      <td>1</td>\n",
       "    </tr>\n",
       "    <tr>\n",
       "      <th>2</th>\n",
       "      <td>17</td>\n",
       "      <td>48549</td>\n",
       "      <td>200</td>\n",
       "      <td>0</td>\n",
       "      <td>88000.0</td>\n",
       "      <td>0.0</td>\n",
       "      <td>440.0</td>\n",
       "      <td>440.0</td>\n",
       "      <td>440.0</td>\n",
       "      <td>0.0</td>\n",
       "      <td>...</td>\n",
       "      <td>0.0</td>\n",
       "      <td>0.0</td>\n",
       "      <td>0.0</td>\n",
       "      <td>0.0</td>\n",
       "      <td>0.0</td>\n",
       "      <td>0.0</td>\n",
       "      <td>0.0</td>\n",
       "      <td>0.0</td>\n",
       "      <td>1</td>\n",
       "      <td>1</td>\n",
       "    </tr>\n",
       "    <tr>\n",
       "      <th>3</th>\n",
       "      <td>17</td>\n",
       "      <td>48337</td>\n",
       "      <td>200</td>\n",
       "      <td>0</td>\n",
       "      <td>88000.0</td>\n",
       "      <td>0.0</td>\n",
       "      <td>440.0</td>\n",
       "      <td>440.0</td>\n",
       "      <td>440.0</td>\n",
       "      <td>0.0</td>\n",
       "      <td>...</td>\n",
       "      <td>0.0</td>\n",
       "      <td>0.0</td>\n",
       "      <td>0.0</td>\n",
       "      <td>0.0</td>\n",
       "      <td>0.0</td>\n",
       "      <td>0.0</td>\n",
       "      <td>0.0</td>\n",
       "      <td>0.0</td>\n",
       "      <td>1</td>\n",
       "      <td>1</td>\n",
       "    </tr>\n",
       "    <tr>\n",
       "      <th>4</th>\n",
       "      <td>17</td>\n",
       "      <td>32026</td>\n",
       "      <td>200</td>\n",
       "      <td>0</td>\n",
       "      <td>88000.0</td>\n",
       "      <td>0.0</td>\n",
       "      <td>440.0</td>\n",
       "      <td>440.0</td>\n",
       "      <td>440.0</td>\n",
       "      <td>0.0</td>\n",
       "      <td>...</td>\n",
       "      <td>0.0</td>\n",
       "      <td>0.0</td>\n",
       "      <td>0.0</td>\n",
       "      <td>0.0</td>\n",
       "      <td>0.0</td>\n",
       "      <td>0.0</td>\n",
       "      <td>0.0</td>\n",
       "      <td>0.0</td>\n",
       "      <td>1</td>\n",
       "      <td>1</td>\n",
       "    </tr>\n",
       "  </tbody>\n",
       "</table>\n",
       "<p>5 rows × 68 columns</p>\n",
       "</div>"
      ],
      "text/plain": [
       "    Protocol   Flow Duration   Total Fwd Packets   Total Backward Packets  \\\n",
       "0         17           28415                  97                        0   \n",
       "1         17               2                   2                        0   \n",
       "2         17           48549                 200                        0   \n",
       "3         17           48337                 200                        0   \n",
       "4         17           32026                 200                        0   \n",
       "\n",
       "   Total Length of Fwd Packets   Total Length of Bwd Packets  \\\n",
       "0                      42680.0                           0.0   \n",
       "1                        880.0                           0.0   \n",
       "2                      88000.0                           0.0   \n",
       "3                      88000.0                           0.0   \n",
       "4                      88000.0                           0.0   \n",
       "\n",
       "    Fwd Packet Length Max   Fwd Packet Length Min   Fwd Packet Length Mean  \\\n",
       "0                   440.0                   440.0                    440.0   \n",
       "1                   440.0                   440.0                    440.0   \n",
       "2                   440.0                   440.0                    440.0   \n",
       "3                   440.0                   440.0                    440.0   \n",
       "4                   440.0                   440.0                    440.0   \n",
       "\n",
       "    Fwd Packet Length Std  ...  Active Mean   Active Std   Active Max  \\\n",
       "0                     0.0  ...          0.0          0.0          0.0   \n",
       "1                     0.0  ...          0.0          0.0          0.0   \n",
       "2                     0.0  ...          0.0          0.0          0.0   \n",
       "3                     0.0  ...          0.0          0.0          0.0   \n",
       "4                     0.0  ...          0.0          0.0          0.0   \n",
       "\n",
       "    Active Min  Idle Mean   Idle Std   Idle Max   Idle Min   Inbound   Label  \n",
       "0          0.0        0.0        0.0        0.0        0.0         1       1  \n",
       "1          0.0        0.0        0.0        0.0        0.0         0       1  \n",
       "2          0.0        0.0        0.0        0.0        0.0         1       1  \n",
       "3          0.0        0.0        0.0        0.0        0.0         1       1  \n",
       "4          0.0        0.0        0.0        0.0        0.0         1       1  \n",
       "\n",
       "[5 rows x 68 columns]"
      ]
     },
     "execution_count": 5,
     "metadata": {},
     "output_type": "execute_result"
    }
   ],
   "source": [
    "df.head(5)"
   ]
  },
  {
   "cell_type": "code",
   "execution_count": 6,
   "id": "1cdcc977-fd8a-4212-94e2-65292e1ad35d",
   "metadata": {},
   "outputs": [],
   "source": [
    "data_X = df.drop([' Label'], axis = 1)"
   ]
  },
  {
   "cell_type": "code",
   "execution_count": 7,
   "id": "de3b6055-14c6-440f-9c3d-accbdf61c79c",
   "metadata": {},
   "outputs": [],
   "source": [
    "data_y = df[' Label']"
   ]
  },
  {
   "cell_type": "code",
   "execution_count": 8,
   "id": "5b8a2a50-3991-4ccb-a964-f7afe874589d",
   "metadata": {},
   "outputs": [
    {
     "data": {
      "text/plain": [
       "0"
      ]
     },
     "execution_count": 8,
     "metadata": {},
     "output_type": "execute_result"
    }
   ],
   "source": [
    "df.isnull().sum().sum()"
   ]
  },
  {
   "cell_type": "code",
   "execution_count": 9,
   "id": "dd3f0c24-f272-4c5e-89e2-7e9226356b83",
   "metadata": {},
   "outputs": [
    {
     "data": {
      "text/plain": [
       "array([ 1,  0,  2,  3,  4,  5,  6,  7,  8,  9, 10, 11, 12], dtype=int64)"
      ]
     },
     "execution_count": 9,
     "metadata": {},
     "output_type": "execute_result"
    }
   ],
   "source": [
    "data_y.unique()"
   ]
  },
  {
   "cell_type": "markdown",
   "id": "4862241b-c7e1-4e82-bf2f-df1297f335f5",
   "metadata": {},
   "source": []
  },
  {
   "cell_type": "code",
   "execution_count": 10,
   "id": "04bda88f-ad7d-498c-9d0b-2aba09035621",
   "metadata": {},
   "outputs": [],
   "source": [
    "from sklearn.preprocessing import LabelEncoder "
   ]
  },
  {
   "cell_type": "code",
   "execution_count": 11,
   "id": "1623f51c-2940-4c48-a2a4-5a4625fa0502",
   "metadata": {},
   "outputs": [
    {
     "data": {
      "text/plain": [
       "array([ 1,  1,  1, ..., 11, 11, 11], dtype=int64)"
      ]
     },
     "execution_count": 11,
     "metadata": {},
     "output_type": "execute_result"
    }
   ],
   "source": [
    "le = LabelEncoder()\n",
    "data_y_trans = le.fit_transform(data_y)\n",
    "data_y_trans"
   ]
  },
  {
   "cell_type": "code",
   "execution_count": 12,
   "id": "27895141-ac16-483a-99ce-363314c6cbcd",
   "metadata": {},
   "outputs": [
    {
     "data": {
      "text/html": [
       "<div>\n",
       "<style scoped>\n",
       "    .dataframe tbody tr th:only-of-type {\n",
       "        vertical-align: middle;\n",
       "    }\n",
       "\n",
       "    .dataframe tbody tr th {\n",
       "        vertical-align: top;\n",
       "    }\n",
       "\n",
       "    .dataframe thead th {\n",
       "        text-align: right;\n",
       "    }\n",
       "</style>\n",
       "<table border=\"1\" class=\"dataframe\">\n",
       "  <thead>\n",
       "    <tr style=\"text-align: right;\">\n",
       "      <th></th>\n",
       "      <th>Protocol</th>\n",
       "      <th>Flow Duration</th>\n",
       "      <th>Total Fwd Packets</th>\n",
       "      <th>Total Backward Packets</th>\n",
       "      <th>Total Length of Fwd Packets</th>\n",
       "      <th>Total Length of Bwd Packets</th>\n",
       "      <th>Fwd Packet Length Max</th>\n",
       "      <th>Fwd Packet Length Min</th>\n",
       "      <th>Fwd Packet Length Mean</th>\n",
       "      <th>Fwd Packet Length Std</th>\n",
       "      <th>...</th>\n",
       "      <th>min_seg_size_forward</th>\n",
       "      <th>Active Mean</th>\n",
       "      <th>Active Std</th>\n",
       "      <th>Active Max</th>\n",
       "      <th>Active Min</th>\n",
       "      <th>Idle Mean</th>\n",
       "      <th>Idle Std</th>\n",
       "      <th>Idle Max</th>\n",
       "      <th>Idle Min</th>\n",
       "      <th>Inbound</th>\n",
       "    </tr>\n",
       "  </thead>\n",
       "  <tbody>\n",
       "    <tr>\n",
       "      <th>0</th>\n",
       "      <td>17</td>\n",
       "      <td>28415</td>\n",
       "      <td>97</td>\n",
       "      <td>0</td>\n",
       "      <td>42680.0</td>\n",
       "      <td>0.0</td>\n",
       "      <td>440.0</td>\n",
       "      <td>440.0</td>\n",
       "      <td>440.0</td>\n",
       "      <td>0.0</td>\n",
       "      <td>...</td>\n",
       "      <td>-1</td>\n",
       "      <td>0.0</td>\n",
       "      <td>0.0</td>\n",
       "      <td>0.0</td>\n",
       "      <td>0.0</td>\n",
       "      <td>0.0</td>\n",
       "      <td>0.0</td>\n",
       "      <td>0.0</td>\n",
       "      <td>0.0</td>\n",
       "      <td>1</td>\n",
       "    </tr>\n",
       "    <tr>\n",
       "      <th>1</th>\n",
       "      <td>17</td>\n",
       "      <td>2</td>\n",
       "      <td>2</td>\n",
       "      <td>0</td>\n",
       "      <td>880.0</td>\n",
       "      <td>0.0</td>\n",
       "      <td>440.0</td>\n",
       "      <td>440.0</td>\n",
       "      <td>440.0</td>\n",
       "      <td>0.0</td>\n",
       "      <td>...</td>\n",
       "      <td>-1</td>\n",
       "      <td>0.0</td>\n",
       "      <td>0.0</td>\n",
       "      <td>0.0</td>\n",
       "      <td>0.0</td>\n",
       "      <td>0.0</td>\n",
       "      <td>0.0</td>\n",
       "      <td>0.0</td>\n",
       "      <td>0.0</td>\n",
       "      <td>0</td>\n",
       "    </tr>\n",
       "    <tr>\n",
       "      <th>2</th>\n",
       "      <td>17</td>\n",
       "      <td>48549</td>\n",
       "      <td>200</td>\n",
       "      <td>0</td>\n",
       "      <td>88000.0</td>\n",
       "      <td>0.0</td>\n",
       "      <td>440.0</td>\n",
       "      <td>440.0</td>\n",
       "      <td>440.0</td>\n",
       "      <td>0.0</td>\n",
       "      <td>...</td>\n",
       "      <td>-1</td>\n",
       "      <td>0.0</td>\n",
       "      <td>0.0</td>\n",
       "      <td>0.0</td>\n",
       "      <td>0.0</td>\n",
       "      <td>0.0</td>\n",
       "      <td>0.0</td>\n",
       "      <td>0.0</td>\n",
       "      <td>0.0</td>\n",
       "      <td>1</td>\n",
       "    </tr>\n",
       "    <tr>\n",
       "      <th>3</th>\n",
       "      <td>17</td>\n",
       "      <td>48337</td>\n",
       "      <td>200</td>\n",
       "      <td>0</td>\n",
       "      <td>88000.0</td>\n",
       "      <td>0.0</td>\n",
       "      <td>440.0</td>\n",
       "      <td>440.0</td>\n",
       "      <td>440.0</td>\n",
       "      <td>0.0</td>\n",
       "      <td>...</td>\n",
       "      <td>-1</td>\n",
       "      <td>0.0</td>\n",
       "      <td>0.0</td>\n",
       "      <td>0.0</td>\n",
       "      <td>0.0</td>\n",
       "      <td>0.0</td>\n",
       "      <td>0.0</td>\n",
       "      <td>0.0</td>\n",
       "      <td>0.0</td>\n",
       "      <td>1</td>\n",
       "    </tr>\n",
       "    <tr>\n",
       "      <th>4</th>\n",
       "      <td>17</td>\n",
       "      <td>32026</td>\n",
       "      <td>200</td>\n",
       "      <td>0</td>\n",
       "      <td>88000.0</td>\n",
       "      <td>0.0</td>\n",
       "      <td>440.0</td>\n",
       "      <td>440.0</td>\n",
       "      <td>440.0</td>\n",
       "      <td>0.0</td>\n",
       "      <td>...</td>\n",
       "      <td>-1</td>\n",
       "      <td>0.0</td>\n",
       "      <td>0.0</td>\n",
       "      <td>0.0</td>\n",
       "      <td>0.0</td>\n",
       "      <td>0.0</td>\n",
       "      <td>0.0</td>\n",
       "      <td>0.0</td>\n",
       "      <td>0.0</td>\n",
       "      <td>1</td>\n",
       "    </tr>\n",
       "    <tr>\n",
       "      <th>...</th>\n",
       "      <td>...</td>\n",
       "      <td>...</td>\n",
       "      <td>...</td>\n",
       "      <td>...</td>\n",
       "      <td>...</td>\n",
       "      <td>...</td>\n",
       "      <td>...</td>\n",
       "      <td>...</td>\n",
       "      <td>...</td>\n",
       "      <td>...</td>\n",
       "      <td>...</td>\n",
       "      <td>...</td>\n",
       "      <td>...</td>\n",
       "      <td>...</td>\n",
       "      <td>...</td>\n",
       "      <td>...</td>\n",
       "      <td>...</td>\n",
       "      <td>...</td>\n",
       "      <td>...</td>\n",
       "      <td>...</td>\n",
       "      <td>...</td>\n",
       "    </tr>\n",
       "    <tr>\n",
       "      <th>426326</th>\n",
       "      <td>17</td>\n",
       "      <td>1</td>\n",
       "      <td>2</td>\n",
       "      <td>0</td>\n",
       "      <td>802.0</td>\n",
       "      <td>0.0</td>\n",
       "      <td>401.0</td>\n",
       "      <td>401.0</td>\n",
       "      <td>401.0</td>\n",
       "      <td>0.0</td>\n",
       "      <td>...</td>\n",
       "      <td>0</td>\n",
       "      <td>0.0</td>\n",
       "      <td>0.0</td>\n",
       "      <td>0.0</td>\n",
       "      <td>0.0</td>\n",
       "      <td>0.0</td>\n",
       "      <td>0.0</td>\n",
       "      <td>0.0</td>\n",
       "      <td>0.0</td>\n",
       "      <td>1</td>\n",
       "    </tr>\n",
       "    <tr>\n",
       "      <th>426327</th>\n",
       "      <td>17</td>\n",
       "      <td>2</td>\n",
       "      <td>2</td>\n",
       "      <td>0</td>\n",
       "      <td>750.0</td>\n",
       "      <td>0.0</td>\n",
       "      <td>375.0</td>\n",
       "      <td>375.0</td>\n",
       "      <td>375.0</td>\n",
       "      <td>0.0</td>\n",
       "      <td>...</td>\n",
       "      <td>0</td>\n",
       "      <td>0.0</td>\n",
       "      <td>0.0</td>\n",
       "      <td>0.0</td>\n",
       "      <td>0.0</td>\n",
       "      <td>0.0</td>\n",
       "      <td>0.0</td>\n",
       "      <td>0.0</td>\n",
       "      <td>0.0</td>\n",
       "      <td>1</td>\n",
       "    </tr>\n",
       "    <tr>\n",
       "      <th>426328</th>\n",
       "      <td>17</td>\n",
       "      <td>2</td>\n",
       "      <td>2</td>\n",
       "      <td>0</td>\n",
       "      <td>750.0</td>\n",
       "      <td>0.0</td>\n",
       "      <td>375.0</td>\n",
       "      <td>375.0</td>\n",
       "      <td>375.0</td>\n",
       "      <td>0.0</td>\n",
       "      <td>...</td>\n",
       "      <td>0</td>\n",
       "      <td>0.0</td>\n",
       "      <td>0.0</td>\n",
       "      <td>0.0</td>\n",
       "      <td>0.0</td>\n",
       "      <td>0.0</td>\n",
       "      <td>0.0</td>\n",
       "      <td>0.0</td>\n",
       "      <td>0.0</td>\n",
       "      <td>1</td>\n",
       "    </tr>\n",
       "    <tr>\n",
       "      <th>426329</th>\n",
       "      <td>17</td>\n",
       "      <td>3</td>\n",
       "      <td>2</td>\n",
       "      <td>0</td>\n",
       "      <td>766.0</td>\n",
       "      <td>0.0</td>\n",
       "      <td>383.0</td>\n",
       "      <td>383.0</td>\n",
       "      <td>383.0</td>\n",
       "      <td>0.0</td>\n",
       "      <td>...</td>\n",
       "      <td>0</td>\n",
       "      <td>0.0</td>\n",
       "      <td>0.0</td>\n",
       "      <td>0.0</td>\n",
       "      <td>0.0</td>\n",
       "      <td>0.0</td>\n",
       "      <td>0.0</td>\n",
       "      <td>0.0</td>\n",
       "      <td>0.0</td>\n",
       "      <td>1</td>\n",
       "    </tr>\n",
       "    <tr>\n",
       "      <th>426330</th>\n",
       "      <td>17</td>\n",
       "      <td>3</td>\n",
       "      <td>2</td>\n",
       "      <td>0</td>\n",
       "      <td>750.0</td>\n",
       "      <td>0.0</td>\n",
       "      <td>375.0</td>\n",
       "      <td>375.0</td>\n",
       "      <td>375.0</td>\n",
       "      <td>0.0</td>\n",
       "      <td>...</td>\n",
       "      <td>0</td>\n",
       "      <td>0.0</td>\n",
       "      <td>0.0</td>\n",
       "      <td>0.0</td>\n",
       "      <td>0.0</td>\n",
       "      <td>0.0</td>\n",
       "      <td>0.0</td>\n",
       "      <td>0.0</td>\n",
       "      <td>0.0</td>\n",
       "      <td>1</td>\n",
       "    </tr>\n",
       "  </tbody>\n",
       "</table>\n",
       "<p>426331 rows × 67 columns</p>\n",
       "</div>"
      ],
      "text/plain": [
       "         Protocol   Flow Duration   Total Fwd Packets  \\\n",
       "0              17           28415                  97   \n",
       "1              17               2                   2   \n",
       "2              17           48549                 200   \n",
       "3              17           48337                 200   \n",
       "4              17           32026                 200   \n",
       "...           ...             ...                 ...   \n",
       "426326         17               1                   2   \n",
       "426327         17               2                   2   \n",
       "426328         17               2                   2   \n",
       "426329         17               3                   2   \n",
       "426330         17               3                   2   \n",
       "\n",
       "         Total Backward Packets  Total Length of Fwd Packets  \\\n",
       "0                             0                      42680.0   \n",
       "1                             0                        880.0   \n",
       "2                             0                      88000.0   \n",
       "3                             0                      88000.0   \n",
       "4                             0                      88000.0   \n",
       "...                         ...                          ...   \n",
       "426326                        0                        802.0   \n",
       "426327                        0                        750.0   \n",
       "426328                        0                        750.0   \n",
       "426329                        0                        766.0   \n",
       "426330                        0                        750.0   \n",
       "\n",
       "         Total Length of Bwd Packets   Fwd Packet Length Max  \\\n",
       "0                                0.0                   440.0   \n",
       "1                                0.0                   440.0   \n",
       "2                                0.0                   440.0   \n",
       "3                                0.0                   440.0   \n",
       "4                                0.0                   440.0   \n",
       "...                              ...                     ...   \n",
       "426326                           0.0                   401.0   \n",
       "426327                           0.0                   375.0   \n",
       "426328                           0.0                   375.0   \n",
       "426329                           0.0                   383.0   \n",
       "426330                           0.0                   375.0   \n",
       "\n",
       "         Fwd Packet Length Min   Fwd Packet Length Mean  \\\n",
       "0                        440.0                    440.0   \n",
       "1                        440.0                    440.0   \n",
       "2                        440.0                    440.0   \n",
       "3                        440.0                    440.0   \n",
       "4                        440.0                    440.0   \n",
       "...                        ...                      ...   \n",
       "426326                   401.0                    401.0   \n",
       "426327                   375.0                    375.0   \n",
       "426328                   375.0                    375.0   \n",
       "426329                   383.0                    383.0   \n",
       "426330                   375.0                    375.0   \n",
       "\n",
       "         Fwd Packet Length Std  ...   min_seg_size_forward  Active Mean  \\\n",
       "0                          0.0  ...                     -1          0.0   \n",
       "1                          0.0  ...                     -1          0.0   \n",
       "2                          0.0  ...                     -1          0.0   \n",
       "3                          0.0  ...                     -1          0.0   \n",
       "4                          0.0  ...                     -1          0.0   \n",
       "...                        ...  ...                    ...          ...   \n",
       "426326                     0.0  ...                      0          0.0   \n",
       "426327                     0.0  ...                      0          0.0   \n",
       "426328                     0.0  ...                      0          0.0   \n",
       "426329                     0.0  ...                      0          0.0   \n",
       "426330                     0.0  ...                      0          0.0   \n",
       "\n",
       "         Active Std   Active Max   Active Min  Idle Mean   Idle Std  \\\n",
       "0               0.0          0.0          0.0        0.0        0.0   \n",
       "1               0.0          0.0          0.0        0.0        0.0   \n",
       "2               0.0          0.0          0.0        0.0        0.0   \n",
       "3               0.0          0.0          0.0        0.0        0.0   \n",
       "4               0.0          0.0          0.0        0.0        0.0   \n",
       "...             ...          ...          ...        ...        ...   \n",
       "426326          0.0          0.0          0.0        0.0        0.0   \n",
       "426327          0.0          0.0          0.0        0.0        0.0   \n",
       "426328          0.0          0.0          0.0        0.0        0.0   \n",
       "426329          0.0          0.0          0.0        0.0        0.0   \n",
       "426330          0.0          0.0          0.0        0.0        0.0   \n",
       "\n",
       "         Idle Max   Idle Min   Inbound  \n",
       "0             0.0        0.0         1  \n",
       "1             0.0        0.0         0  \n",
       "2             0.0        0.0         1  \n",
       "3             0.0        0.0         1  \n",
       "4             0.0        0.0         1  \n",
       "...           ...        ...       ...  \n",
       "426326        0.0        0.0         1  \n",
       "426327        0.0        0.0         1  \n",
       "426328        0.0        0.0         1  \n",
       "426329        0.0        0.0         1  \n",
       "426330        0.0        0.0         1  \n",
       "\n",
       "[426331 rows x 67 columns]"
      ]
     },
     "execution_count": 12,
     "metadata": {},
     "output_type": "execute_result"
    }
   ],
   "source": [
    "data_X"
   ]
  },
  {
   "cell_type": "code",
   "execution_count": 13,
   "id": "8cb7db69-8ea8-4802-9524-0c2bf2e75571",
   "metadata": {},
   "outputs": [
    {
     "data": {
      "text/plain": [
       " Protocol                        int64\n",
       " Flow Duration                   int64\n",
       " Total Fwd Packets               int64\n",
       " Total Backward Packets          int64\n",
       "Total Length of Fwd Packets    float64\n",
       "                                ...   \n",
       "Idle Mean                      float64\n",
       " Idle Std                      float64\n",
       " Idle Max                      float64\n",
       " Idle Min                      float64\n",
       " Inbound                         int64\n",
       "Length: 67, dtype: object"
      ]
     },
     "execution_count": 13,
     "metadata": {},
     "output_type": "execute_result"
    }
   ],
   "source": [
    "data_X.dtypes"
   ]
  },
  {
   "cell_type": "code",
   "execution_count": 14,
   "id": "a05b7426-d9a6-47d1-a35e-2ab563cc8f38",
   "metadata": {},
   "outputs": [
    {
     "data": {
      "text/html": [
       "<style>#sk-container-id-1 {color: black;}#sk-container-id-1 pre{padding: 0;}#sk-container-id-1 div.sk-toggleable {background-color: white;}#sk-container-id-1 label.sk-toggleable__label {cursor: pointer;display: block;width: 100%;margin-bottom: 0;padding: 0.3em;box-sizing: border-box;text-align: center;}#sk-container-id-1 label.sk-toggleable__label-arrow:before {content: \"▸\";float: left;margin-right: 0.25em;color: #696969;}#sk-container-id-1 label.sk-toggleable__label-arrow:hover:before {color: black;}#sk-container-id-1 div.sk-estimator:hover label.sk-toggleable__label-arrow:before {color: black;}#sk-container-id-1 div.sk-toggleable__content {max-height: 0;max-width: 0;overflow: hidden;text-align: left;background-color: #f0f8ff;}#sk-container-id-1 div.sk-toggleable__content pre {margin: 0.2em;color: black;border-radius: 0.25em;background-color: #f0f8ff;}#sk-container-id-1 input.sk-toggleable__control:checked~div.sk-toggleable__content {max-height: 200px;max-width: 100%;overflow: auto;}#sk-container-id-1 input.sk-toggleable__control:checked~label.sk-toggleable__label-arrow:before {content: \"▾\";}#sk-container-id-1 div.sk-estimator input.sk-toggleable__control:checked~label.sk-toggleable__label {background-color: #d4ebff;}#sk-container-id-1 div.sk-label input.sk-toggleable__control:checked~label.sk-toggleable__label {background-color: #d4ebff;}#sk-container-id-1 input.sk-hidden--visually {border: 0;clip: rect(1px 1px 1px 1px);clip: rect(1px, 1px, 1px, 1px);height: 1px;margin: -1px;overflow: hidden;padding: 0;position: absolute;width: 1px;}#sk-container-id-1 div.sk-estimator {font-family: monospace;background-color: #f0f8ff;border: 1px dotted black;border-radius: 0.25em;box-sizing: border-box;margin-bottom: 0.5em;}#sk-container-id-1 div.sk-estimator:hover {background-color: #d4ebff;}#sk-container-id-1 div.sk-parallel-item::after {content: \"\";width: 100%;border-bottom: 1px solid gray;flex-grow: 1;}#sk-container-id-1 div.sk-label:hover label.sk-toggleable__label {background-color: #d4ebff;}#sk-container-id-1 div.sk-serial::before {content: \"\";position: absolute;border-left: 1px solid gray;box-sizing: border-box;top: 0;bottom: 0;left: 50%;z-index: 0;}#sk-container-id-1 div.sk-serial {display: flex;flex-direction: column;align-items: center;background-color: white;padding-right: 0.2em;padding-left: 0.2em;position: relative;}#sk-container-id-1 div.sk-item {position: relative;z-index: 1;}#sk-container-id-1 div.sk-parallel {display: flex;align-items: stretch;justify-content: center;background-color: white;position: relative;}#sk-container-id-1 div.sk-item::before, #sk-container-id-1 div.sk-parallel-item::before {content: \"\";position: absolute;border-left: 1px solid gray;box-sizing: border-box;top: 0;bottom: 0;left: 50%;z-index: -1;}#sk-container-id-1 div.sk-parallel-item {display: flex;flex-direction: column;z-index: 1;position: relative;background-color: white;}#sk-container-id-1 div.sk-parallel-item:first-child::after {align-self: flex-end;width: 50%;}#sk-container-id-1 div.sk-parallel-item:last-child::after {align-self: flex-start;width: 50%;}#sk-container-id-1 div.sk-parallel-item:only-child::after {width: 0;}#sk-container-id-1 div.sk-dashed-wrapped {border: 1px dashed gray;margin: 0 0.4em 0.5em 0.4em;box-sizing: border-box;padding-bottom: 0.4em;background-color: white;}#sk-container-id-1 div.sk-label label {font-family: monospace;font-weight: bold;display: inline-block;line-height: 1.2em;}#sk-container-id-1 div.sk-label-container {text-align: center;}#sk-container-id-1 div.sk-container {/* jupyter's `normalize.less` sets `[hidden] { display: none; }` but bootstrap.min.css set `[hidden] { display: none !important; }` so we also need the `!important` here to be able to override the default hidden behavior on the sphinx rendered scikit-learn.org. See: https://github.com/scikit-learn/scikit-learn/issues/21755 */display: inline-block !important;position: relative;}#sk-container-id-1 div.sk-text-repr-fallback {display: none;}</style><div id=\"sk-container-id-1\" class=\"sk-top-container\"><div class=\"sk-text-repr-fallback\"><pre>ExtraTreesClassifier(random_state=42)</pre><b>In a Jupyter environment, please rerun this cell to show the HTML representation or trust the notebook. <br />On GitHub, the HTML representation is unable to render, please try loading this page with nbviewer.org.</b></div><div class=\"sk-container\" hidden><div class=\"sk-item\"><div class=\"sk-estimator sk-toggleable\"><input class=\"sk-toggleable__control sk-hidden--visually\" id=\"sk-estimator-id-1\" type=\"checkbox\" checked><label for=\"sk-estimator-id-1\" class=\"sk-toggleable__label sk-toggleable__label-arrow\">ExtraTreesClassifier</label><div class=\"sk-toggleable__content\"><pre>ExtraTreesClassifier(random_state=42)</pre></div></div></div></div></div>"
      ],
      "text/plain": [
       "ExtraTreesClassifier(random_state=42)"
      ]
     },
     "execution_count": 14,
     "metadata": {},
     "output_type": "execute_result"
    }
   ],
   "source": [
    "from sklearn.feature_selection import chi2 \n",
    "from sklearn.feature_selection import SelectKBest \n",
    "from sklearn.ensemble import ExtraTreesClassifier\n",
    "\n",
    "#selecting 20 best features\n",
    "# select_best= SelectKBest(chi2, k=20)\n",
    "# X_feat_20 = select_best.fit_transform(data_X, data_y_trans)\n",
    "# X_feat_20.shape\n",
    "\n",
    "model = ExtraTreesClassifier(random_state=42)\n",
    "model.fit(data_X, data_y_trans)"
   ]
  },
  {
   "cell_type": "code",
   "execution_count": 15,
   "id": "106f292b-e369-4041-bcd7-c07ca9f450ac",
   "metadata": {},
   "outputs": [
    {
     "data": {
      "text/plain": [
       "array([2.34986657e-02, 1.99856538e-02, 1.50694355e-02, 5.35024793e-04,\n",
       "       2.71574089e-02, 3.29728140e-04, 4.31866435e-02, 4.24222080e-02,\n",
       "       6.03769890e-02, 6.98922480e-03, 1.21347238e-03, 8.38178268e-04,\n",
       "       8.12773856e-04, 2.65668467e-04, 4.81121897e-02, 2.72615689e-02,\n",
       "       1.13582535e-02, 9.13136610e-03, 1.05996518e-02, 1.20511039e-02,\n",
       "       1.78834894e-02, 9.99089020e-03, 7.58107887e-03, 9.55680889e-03,\n",
       "       1.12531295e-02, 5.89400398e-04, 4.40684089e-04, 3.36082179e-04,\n",
       "       4.78542409e-04, 3.50102217e-04, 9.02344428e-04, 3.50530152e-02,\n",
       "       1.13190851e-03, 2.91047787e-02, 9.74785648e-04, 5.24923235e-02,\n",
       "       3.59093063e-02, 5.79576387e-02, 4.24009739e-03, 2.09878879e-03,\n",
       "       7.57107023e-05, 7.14329191e-04, 4.76697461e-02, 6.72438192e-03,\n",
       "       3.30141159e-03, 3.43629015e-03, 5.69593268e-02, 6.62050801e-02,\n",
       "       1.11469226e-03, 3.56446821e-02, 1.33472655e-02, 2.90040073e-02,\n",
       "       5.41994700e-04, 1.41139163e-04, 3.79256725e-03, 1.37172840e-03,\n",
       "       1.74481791e-02, 4.54431711e-02, 7.25354870e-05, 9.95435593e-06,\n",
       "       5.90759128e-05, 1.22813879e-04, 1.58055355e-03, 1.19372483e-03,\n",
       "       3.20703664e-03, 9.99985607e-04, 2.02982120e-02])"
      ]
     },
     "execution_count": 15,
     "metadata": {},
     "output_type": "execute_result"
    }
   ],
   "source": [
    "model.feature_importances_"
   ]
  },
  {
   "cell_type": "code",
   "execution_count": 16,
   "id": "4717d0c5-d9c6-4df4-9b57-e4e4f963b21b",
   "metadata": {},
   "outputs": [
    {
     "data": {
      "text/plain": [
       "<Axes: title={'center': 'Standardised Dataset Feature Selection using ExtraTreesClassifier'}>"
      ]
     },
     "execution_count": 16,
     "metadata": {},
     "output_type": "execute_result"
    },
    {
     "data": {
      "image/png": "[encoded data removed]",
      "text/plain": [
       "<Figure size 640x480 with 1 Axes>"
      ]
     },
     "metadata": {},
     "output_type": "display_data"
    }
   ],
   "source": [
    "feature_importance_std = pd.Series(model.feature_importances_, index=data_X.columns)\n",
    "feature_importance_std.nlargest(20).plot(kind='bar', title='Standardised Dataset Feature Selection using ExtraTreesClassifier')"
   ]
  },
  {
   "cell_type": "code",
   "execution_count": 17,
   "id": "4e709ac1-4962-4245-9210-2864024b599c",
   "metadata": {},
   "outputs": [
    {
     "data": {
      "text/plain": [
       "(426331, 67)"
      ]
     },
     "execution_count": 17,
     "metadata": {},
     "output_type": "execute_result"
    }
   ],
   "source": [
    "data_X.shape "
   ]
  },
  {
   "cell_type": "code",
   "execution_count": 18,
   "id": "f398191c-05cb-46a9-8b5e-42c24b7860a8",
   "metadata": {},
   "outputs": [
    {
     "name": "stdout",
     "output_type": "stream",
     "text": [
      "Top 20 Features:\n",
      "Index([' Avg Fwd Segment Size', ' Fwd Packet Length Mean',\n",
      "       ' Packet Length Mean', ' Average Packet Size', ' Min Packet Length',\n",
      "       'Flow Bytes/s', ' ACK Flag Count', ' min_seg_size_forward',\n",
      "       ' Fwd Packet Length Max', ' Fwd Packet Length Min',\n",
      "       ' Max Packet Length', ' Fwd Header Length.1', ' Fwd Header Length',\n",
      "       'Fwd Packets/s', ' Subflow Fwd Bytes', ' Flow Packets/s',\n",
      "       'Total Length of Fwd Packets', ' Protocol', ' Inbound',\n",
      "       ' Flow Duration'],\n",
      "      dtype='object')\n"
     ]
    }
   ],
   "source": [
    "# Get the top 20 features based on feature importance\n",
    "top_20_features = feature_importance_std.nlargest(20).index\n",
    "\n",
    "# Select the corresponding columns from the original dataset\n",
    "data_new_20features_X = data_X[top_20_features]\n",
    "\n",
    "# Print the list of top 20 features\n",
    "print(\"Top 20 Features:\")\n",
    "print(top_20_features)"
   ]
  },
  {
   "cell_type": "code",
   "execution_count": 19,
   "id": "248e4825-093d-4e4c-86e4-f2e080f35c19",
   "metadata": {},
   "outputs": [
    {
     "data": {
      "text/html": [
       "<div>\n",
       "<style scoped>\n",
       "    .dataframe tbody tr th:only-of-type {\n",
       "        vertical-align: middle;\n",
       "    }\n",
       "\n",
       "    .dataframe tbody tr th {\n",
       "        vertical-align: top;\n",
       "    }\n",
       "\n",
       "    .dataframe thead th {\n",
       "        text-align: right;\n",
       "    }\n",
       "</style>\n",
       "<table border=\"1\" class=\"dataframe\">\n",
       "  <thead>\n",
       "    <tr style=\"text-align: right;\">\n",
       "      <th></th>\n",
       "      <th>Avg Fwd Segment Size</th>\n",
       "      <th>Fwd Packet Length Mean</th>\n",
       "      <th>Packet Length Mean</th>\n",
       "      <th>Average Packet Size</th>\n",
       "      <th>Min Packet Length</th>\n",
       "      <th>Flow Bytes/s</th>\n",
       "      <th>ACK Flag Count</th>\n",
       "      <th>min_seg_size_forward</th>\n",
       "      <th>Fwd Packet Length Max</th>\n",
       "      <th>Fwd Packet Length Min</th>\n",
       "      <th>Max Packet Length</th>\n",
       "      <th>Fwd Header Length.1</th>\n",
       "      <th>Fwd Header Length</th>\n",
       "      <th>Fwd Packets/s</th>\n",
       "      <th>Subflow Fwd Bytes</th>\n",
       "      <th>Flow Packets/s</th>\n",
       "      <th>Total Length of Fwd Packets</th>\n",
       "      <th>Protocol</th>\n",
       "      <th>Inbound</th>\n",
       "      <th>Flow Duration</th>\n",
       "    </tr>\n",
       "  </thead>\n",
       "  <tbody>\n",
       "    <tr>\n",
       "      <th>0</th>\n",
       "      <td>440.0</td>\n",
       "      <td>440.0</td>\n",
       "      <td>440.0</td>\n",
       "      <td>444.536083</td>\n",
       "      <td>440.0</td>\n",
       "      <td>1.502024e+06</td>\n",
       "      <td>0</td>\n",
       "      <td>-1</td>\n",
       "      <td>440.0</td>\n",
       "      <td>440.0</td>\n",
       "      <td>440.0</td>\n",
       "      <td>-97.0</td>\n",
       "      <td>-97.0</td>\n",
       "      <td>3.413690e+03</td>\n",
       "      <td>42680</td>\n",
       "      <td>3.413690e+03</td>\n",
       "      <td>42680.0</td>\n",
       "      <td>17</td>\n",
       "      <td>1</td>\n",
       "      <td>28415</td>\n",
       "    </tr>\n",
       "    <tr>\n",
       "      <th>1</th>\n",
       "      <td>440.0</td>\n",
       "      <td>440.0</td>\n",
       "      <td>440.0</td>\n",
       "      <td>660.000000</td>\n",
       "      <td>440.0</td>\n",
       "      <td>4.400000e+08</td>\n",
       "      <td>0</td>\n",
       "      <td>-1</td>\n",
       "      <td>440.0</td>\n",
       "      <td>440.0</td>\n",
       "      <td>440.0</td>\n",
       "      <td>-2.0</td>\n",
       "      <td>-2.0</td>\n",
       "      <td>1.000000e+06</td>\n",
       "      <td>880</td>\n",
       "      <td>1.000000e+06</td>\n",
       "      <td>880.0</td>\n",
       "      <td>17</td>\n",
       "      <td>0</td>\n",
       "      <td>2</td>\n",
       "    </tr>\n",
       "    <tr>\n",
       "      <th>2</th>\n",
       "      <td>440.0</td>\n",
       "      <td>440.0</td>\n",
       "      <td>440.0</td>\n",
       "      <td>442.200000</td>\n",
       "      <td>440.0</td>\n",
       "      <td>1.812602e+06</td>\n",
       "      <td>0</td>\n",
       "      <td>-1</td>\n",
       "      <td>440.0</td>\n",
       "      <td>440.0</td>\n",
       "      <td>440.0</td>\n",
       "      <td>-200.0</td>\n",
       "      <td>-200.0</td>\n",
       "      <td>4.119549e+03</td>\n",
       "      <td>88000</td>\n",
       "      <td>4.119549e+03</td>\n",
       "      <td>88000.0</td>\n",
       "      <td>17</td>\n",
       "      <td>1</td>\n",
       "      <td>48549</td>\n",
       "    </tr>\n",
       "    <tr>\n",
       "      <th>3</th>\n",
       "      <td>440.0</td>\n",
       "      <td>440.0</td>\n",
       "      <td>440.0</td>\n",
       "      <td>442.200000</td>\n",
       "      <td>440.0</td>\n",
       "      <td>1.820552e+06</td>\n",
       "      <td>0</td>\n",
       "      <td>-1</td>\n",
       "      <td>440.0</td>\n",
       "      <td>440.0</td>\n",
       "      <td>440.0</td>\n",
       "      <td>-200.0</td>\n",
       "      <td>-200.0</td>\n",
       "      <td>4.137617e+03</td>\n",
       "      <td>88000</td>\n",
       "      <td>4.137617e+03</td>\n",
       "      <td>88000.0</td>\n",
       "      <td>17</td>\n",
       "      <td>1</td>\n",
       "      <td>48337</td>\n",
       "    </tr>\n",
       "    <tr>\n",
       "      <th>4</th>\n",
       "      <td>440.0</td>\n",
       "      <td>440.0</td>\n",
       "      <td>440.0</td>\n",
       "      <td>442.200000</td>\n",
       "      <td>440.0</td>\n",
       "      <td>2.747767e+06</td>\n",
       "      <td>0</td>\n",
       "      <td>-1</td>\n",
       "      <td>440.0</td>\n",
       "      <td>440.0</td>\n",
       "      <td>440.0</td>\n",
       "      <td>-200.0</td>\n",
       "      <td>-200.0</td>\n",
       "      <td>6.244926e+03</td>\n",
       "      <td>88000</td>\n",
       "      <td>6.244926e+03</td>\n",
       "      <td>88000.0</td>\n",
       "      <td>17</td>\n",
       "      <td>1</td>\n",
       "      <td>32026</td>\n",
       "    </tr>\n",
       "    <tr>\n",
       "      <th>...</th>\n",
       "      <td>...</td>\n",
       "      <td>...</td>\n",
       "      <td>...</td>\n",
       "      <td>...</td>\n",
       "      <td>...</td>\n",
       "      <td>...</td>\n",
       "      <td>...</td>\n",
       "      <td>...</td>\n",
       "      <td>...</td>\n",
       "      <td>...</td>\n",
       "      <td>...</td>\n",
       "      <td>...</td>\n",
       "      <td>...</td>\n",
       "      <td>...</td>\n",
       "      <td>...</td>\n",
       "      <td>...</td>\n",
       "      <td>...</td>\n",
       "      <td>...</td>\n",
       "      <td>...</td>\n",
       "      <td>...</td>\n",
       "    </tr>\n",
       "    <tr>\n",
       "      <th>426326</th>\n",
       "      <td>401.0</td>\n",
       "      <td>401.0</td>\n",
       "      <td>401.0</td>\n",
       "      <td>601.500000</td>\n",
       "      <td>401.0</td>\n",
       "      <td>8.020000e+08</td>\n",
       "      <td>0</td>\n",
       "      <td>0</td>\n",
       "      <td>401.0</td>\n",
       "      <td>401.0</td>\n",
       "      <td>401.0</td>\n",
       "      <td>0.0</td>\n",
       "      <td>0.0</td>\n",
       "      <td>2.000000e+06</td>\n",
       "      <td>802</td>\n",
       "      <td>2.000000e+06</td>\n",
       "      <td>802.0</td>\n",
       "      <td>17</td>\n",
       "      <td>1</td>\n",
       "      <td>1</td>\n",
       "    </tr>\n",
       "    <tr>\n",
       "      <th>426327</th>\n",
       "      <td>375.0</td>\n",
       "      <td>375.0</td>\n",
       "      <td>375.0</td>\n",
       "      <td>562.500000</td>\n",
       "      <td>375.0</td>\n",
       "      <td>3.750000e+08</td>\n",
       "      <td>0</td>\n",
       "      <td>0</td>\n",
       "      <td>375.0</td>\n",
       "      <td>375.0</td>\n",
       "      <td>375.0</td>\n",
       "      <td>0.0</td>\n",
       "      <td>0.0</td>\n",
       "      <td>1.000000e+06</td>\n",
       "      <td>750</td>\n",
       "      <td>1.000000e+06</td>\n",
       "      <td>750.0</td>\n",
       "      <td>17</td>\n",
       "      <td>1</td>\n",
       "      <td>2</td>\n",
       "    </tr>\n",
       "    <tr>\n",
       "      <th>426328</th>\n",
       "      <td>375.0</td>\n",
       "      <td>375.0</td>\n",
       "      <td>375.0</td>\n",
       "      <td>562.500000</td>\n",
       "      <td>375.0</td>\n",
       "      <td>3.750000e+08</td>\n",
       "      <td>0</td>\n",
       "      <td>0</td>\n",
       "      <td>375.0</td>\n",
       "      <td>375.0</td>\n",
       "      <td>375.0</td>\n",
       "      <td>0.0</td>\n",
       "      <td>0.0</td>\n",
       "      <td>1.000000e+06</td>\n",
       "      <td>750</td>\n",
       "      <td>1.000000e+06</td>\n",
       "      <td>750.0</td>\n",
       "      <td>17</td>\n",
       "      <td>1</td>\n",
       "      <td>2</td>\n",
       "    </tr>\n",
       "    <tr>\n",
       "      <th>426329</th>\n",
       "      <td>383.0</td>\n",
       "      <td>383.0</td>\n",
       "      <td>383.0</td>\n",
       "      <td>574.500000</td>\n",
       "      <td>383.0</td>\n",
       "      <td>2.553333e+08</td>\n",
       "      <td>0</td>\n",
       "      <td>0</td>\n",
       "      <td>383.0</td>\n",
       "      <td>383.0</td>\n",
       "      <td>383.0</td>\n",
       "      <td>0.0</td>\n",
       "      <td>0.0</td>\n",
       "      <td>6.666667e+05</td>\n",
       "      <td>766</td>\n",
       "      <td>6.666667e+05</td>\n",
       "      <td>766.0</td>\n",
       "      <td>17</td>\n",
       "      <td>1</td>\n",
       "      <td>3</td>\n",
       "    </tr>\n",
       "    <tr>\n",
       "      <th>426330</th>\n",
       "      <td>375.0</td>\n",
       "      <td>375.0</td>\n",
       "      <td>375.0</td>\n",
       "      <td>562.500000</td>\n",
       "      <td>375.0</td>\n",
       "      <td>2.500000e+08</td>\n",
       "      <td>0</td>\n",
       "      <td>0</td>\n",
       "      <td>375.0</td>\n",
       "      <td>375.0</td>\n",
       "      <td>375.0</td>\n",
       "      <td>0.0</td>\n",
       "      <td>0.0</td>\n",
       "      <td>6.666667e+05</td>\n",
       "      <td>750</td>\n",
       "      <td>6.666667e+05</td>\n",
       "      <td>750.0</td>\n",
       "      <td>17</td>\n",
       "      <td>1</td>\n",
       "      <td>3</td>\n",
       "    </tr>\n",
       "  </tbody>\n",
       "</table>\n",
       "<p>426331 rows × 20 columns</p>\n",
       "</div>"
      ],
      "text/plain": [
       "         Avg Fwd Segment Size   Fwd Packet Length Mean   Packet Length Mean  \\\n",
       "0                       440.0                    440.0                440.0   \n",
       "1                       440.0                    440.0                440.0   \n",
       "2                       440.0                    440.0                440.0   \n",
       "3                       440.0                    440.0                440.0   \n",
       "4                       440.0                    440.0                440.0   \n",
       "...                       ...                      ...                  ...   \n",
       "426326                  401.0                    401.0                401.0   \n",
       "426327                  375.0                    375.0                375.0   \n",
       "426328                  375.0                    375.0                375.0   \n",
       "426329                  383.0                    383.0                383.0   \n",
       "426330                  375.0                    375.0                375.0   \n",
       "\n",
       "         Average Packet Size   Min Packet Length  Flow Bytes/s  \\\n",
       "0                 444.536083               440.0  1.502024e+06   \n",
       "1                 660.000000               440.0  4.400000e+08   \n",
       "2                 442.200000               440.0  1.812602e+06   \n",
       "3                 442.200000               440.0  1.820552e+06   \n",
       "4                 442.200000               440.0  2.747767e+06   \n",
       "...                      ...                 ...           ...   \n",
       "426326            601.500000               401.0  8.020000e+08   \n",
       "426327            562.500000               375.0  3.750000e+08   \n",
       "426328            562.500000               375.0  3.750000e+08   \n",
       "426329            574.500000               383.0  2.553333e+08   \n",
       "426330            562.500000               375.0  2.500000e+08   \n",
       "\n",
       "         ACK Flag Count   min_seg_size_forward   Fwd Packet Length Max  \\\n",
       "0                     0                     -1                   440.0   \n",
       "1                     0                     -1                   440.0   \n",
       "2                     0                     -1                   440.0   \n",
       "3                     0                     -1                   440.0   \n",
       "4                     0                     -1                   440.0   \n",
       "...                 ...                    ...                     ...   \n",
       "426326                0                      0                   401.0   \n",
       "426327                0                      0                   375.0   \n",
       "426328                0                      0                   375.0   \n",
       "426329                0                      0                   383.0   \n",
       "426330                0                      0                   375.0   \n",
       "\n",
       "         Fwd Packet Length Min   Max Packet Length   Fwd Header Length.1  \\\n",
       "0                        440.0               440.0                 -97.0   \n",
       "1                        440.0               440.0                  -2.0   \n",
       "2                        440.0               440.0                -200.0   \n",
       "3                        440.0               440.0                -200.0   \n",
       "4                        440.0               440.0                -200.0   \n",
       "...                        ...                 ...                   ...   \n",
       "426326                   401.0               401.0                   0.0   \n",
       "426327                   375.0               375.0                   0.0   \n",
       "426328                   375.0               375.0                   0.0   \n",
       "426329                   383.0               383.0                   0.0   \n",
       "426330                   375.0               375.0                   0.0   \n",
       "\n",
       "         Fwd Header Length  Fwd Packets/s   Subflow Fwd Bytes  \\\n",
       "0                    -97.0   3.413690e+03               42680   \n",
       "1                     -2.0   1.000000e+06                 880   \n",
       "2                   -200.0   4.119549e+03               88000   \n",
       "3                   -200.0   4.137617e+03               88000   \n",
       "4                   -200.0   6.244926e+03               88000   \n",
       "...                    ...            ...                 ...   \n",
       "426326                 0.0   2.000000e+06                 802   \n",
       "426327                 0.0   1.000000e+06                 750   \n",
       "426328                 0.0   1.000000e+06                 750   \n",
       "426329                 0.0   6.666667e+05                 766   \n",
       "426330                 0.0   6.666667e+05                 750   \n",
       "\n",
       "         Flow Packets/s  Total Length of Fwd Packets   Protocol   Inbound  \\\n",
       "0          3.413690e+03                      42680.0         17         1   \n",
       "1          1.000000e+06                        880.0         17         0   \n",
       "2          4.119549e+03                      88000.0         17         1   \n",
       "3          4.137617e+03                      88000.0         17         1   \n",
       "4          6.244926e+03                      88000.0         17         1   \n",
       "...                 ...                          ...        ...       ...   \n",
       "426326     2.000000e+06                        802.0         17         1   \n",
       "426327     1.000000e+06                        750.0         17         1   \n",
       "426328     1.000000e+06                        750.0         17         1   \n",
       "426329     6.666667e+05                        766.0         17         1   \n",
       "426330     6.666667e+05                        750.0         17         1   \n",
       "\n",
       "         Flow Duration  \n",
       "0                28415  \n",
       "1                    2  \n",
       "2                48549  \n",
       "3                48337  \n",
       "4                32026  \n",
       "...                ...  \n",
       "426326               1  \n",
       "426327               2  \n",
       "426328               2  \n",
       "426329               3  \n",
       "426330               3  \n",
       "\n",
       "[426331 rows x 20 columns]"
      ]
     },
     "execution_count": 19,
     "metadata": {},
     "output_type": "execute_result"
    }
   ],
   "source": [
    "data_new_20features_X"
   ]
  },
  {
   "cell_type": "code",
   "execution_count": 20,
   "id": "751f5e4f-a6dd-45f6-b0ef-4b654574cecb",
   "metadata": {},
   "outputs": [],
   "source": [
    "from sklearn.model_selection import train_test_split\n",
    "X_train, X_test, y_train, y_test = train_test_split(data_new_20features_X, data_y_trans, test_size = 0.30, random_state = 42)"
   ]
  },
  {
   "cell_type": "code",
   "execution_count": 21,
   "id": "4120bb17-27ca-41e2-a3bd-7abb02d945a7",
   "metadata": {},
   "outputs": [
    {
     "data": {
      "text/plain": [
       "(298431, 20)"
      ]
     },
     "execution_count": 21,
     "metadata": {},
     "output_type": "execute_result"
    }
   ],
   "source": [
    "X_train.shape "
   ]
  },
  {
   "cell_type": "code",
   "execution_count": 22,
   "id": "06bdb75d-3bcc-43d4-af85-1fb53f022e59",
   "metadata": {},
   "outputs": [
    {
     "data": {
      "text/plain": [
       "(127900, 20)"
      ]
     },
     "execution_count": 22,
     "metadata": {},
     "output_type": "execute_result"
    }
   ],
   "source": [
    "X_test.shape "
   ]
  },
  {
   "cell_type": "code",
   "execution_count": 23,
   "id": "6daf2a65-ce7f-4aff-bef6-fa451e4c8d68",
   "metadata": {},
   "outputs": [],
   "source": [
    "from sklearn.preprocessing import StandardScaler \n",
    "ss = StandardScaler()\n",
    "X_train_std = ss.fit_transform(X_train)\n",
    "X_test_std = ss.fit_transform(X_test)"
   ]
  },
  {
   "cell_type": "code",
   "execution_count": 24,
   "id": "9a249205-5210-4b1d-a65c-3403183abd41",
   "metadata": {},
   "outputs": [],
   "source": [
    "from sklearn.model_selection import train_test_split\n",
    "X_train_20, X_test_20, y_train_20, y_test_20 = train_test_split(data_X, data_y_trans, test_size = 0.30, random_state = 42)"
   ]
  },
  {
   "cell_type": "code",
   "execution_count": 25,
   "id": "eef632f1-75ef-4f0e-a17e-ce566643af4d",
   "metadata": {},
   "outputs": [],
   "source": [
    "from sklearn.preprocessing import StandardScaler \n",
    "ss_20 = StandardScaler()\n",
    "X_train_std_20 = ss_20.fit_transform(X_train_20)\n",
    "X_test_std_20 = ss_20.fit_transform(X_test_20)"
   ]
  },
  {
   "cell_type": "code",
   "execution_count": 26,
   "id": "bafe4140-fbae-4a1d-8b6e-f3b578aa33fe",
   "metadata": {},
   "outputs": [
    {
     "data": {
      "text/plain": [
       "(298431, 67)"
      ]
     },
     "execution_count": 26,
     "metadata": {},
     "output_type": "execute_result"
    }
   ],
   "source": [
    "X_train_std_20.shape "
   ]
  },
  {
   "cell_type": "code",
   "execution_count": 27,
   "id": "f0ba9c53-4f5f-4d1c-b029-0c4d119dfed0",
   "metadata": {},
   "outputs": [
    {
     "data": {
      "text/plain": [
       "(298431,)"
      ]
     },
     "execution_count": 27,
     "metadata": {},
     "output_type": "execute_result"
    }
   ],
   "source": [
    "y_train_20.shape"
   ]
  },
  {
   "cell_type": "code",
   "execution_count": 28,
   "id": "fb27b19a-c928-444b-adc7-c41caa2604c1",
   "metadata": {},
   "outputs": [
    {
     "data": {
      "text/plain": [
       "(127900, 67)"
      ]
     },
     "execution_count": 28,
     "metadata": {},
     "output_type": "execute_result"
    }
   ],
   "source": [
    "X_test_std_20.shape "
   ]
  },
  {
   "cell_type": "code",
   "execution_count": 29,
   "id": "71d7d8b0-e8c4-45a4-84cb-4aadd460f20f",
   "metadata": {},
   "outputs": [
    {
     "data": {
      "text/plain": [
       "(127900,)"
      ]
     },
     "execution_count": 29,
     "metadata": {},
     "output_type": "execute_result"
    }
   ],
   "source": [
    "y_test_20.shape "
   ]
  },
  {
   "cell_type": "code",
   "execution_count": 30,
   "id": "7328948f-b9a8-433a-b1c5-ca9f6ff2d9cc",
   "metadata": {},
   "outputs": [
    {
     "data": {
      "text/plain": [
       "(127900,)"
      ]
     },
     "execution_count": 30,
     "metadata": {},
     "output_type": "execute_result"
    }
   ],
   "source": [
    "y_test_20.shape "
   ]
  },
  {
   "cell_type": "code",
   "execution_count": 31,
   "id": "6463f6e8-db5e-4a07-8db7-572357f406b7",
   "metadata": {},
   "outputs": [
    {
     "data": {
      "text/html": [
       "<style>#sk-container-id-2 {color: black;}#sk-container-id-2 pre{padding: 0;}#sk-container-id-2 div.sk-toggleable {background-color: white;}#sk-container-id-2 label.sk-toggleable__label {cursor: pointer;display: block;width: 100%;margin-bottom: 0;padding: 0.3em;box-sizing: border-box;text-align: center;}#sk-container-id-2 label.sk-toggleable__label-arrow:before {content: \"▸\";float: left;margin-right: 0.25em;color: #696969;}#sk-container-id-2 label.sk-toggleable__label-arrow:hover:before {color: black;}#sk-container-id-2 div.sk-estimator:hover label.sk-toggleable__label-arrow:before {color: black;}#sk-container-id-2 div.sk-toggleable__content {max-height: 0;max-width: 0;overflow: hidden;text-align: left;background-color: #f0f8ff;}#sk-container-id-2 div.sk-toggleable__content pre {margin: 0.2em;color: black;border-radius: 0.25em;background-color: #f0f8ff;}#sk-container-id-2 input.sk-toggleable__control:checked~div.sk-toggleable__content {max-height: 200px;max-width: 100%;overflow: auto;}#sk-container-id-2 input.sk-toggleable__control:checked~label.sk-toggleable__label-arrow:before {content: \"▾\";}#sk-container-id-2 div.sk-estimator input.sk-toggleable__control:checked~label.sk-toggleable__label {background-color: #d4ebff;}#sk-container-id-2 div.sk-label input.sk-toggleable__control:checked~label.sk-toggleable__label {background-color: #d4ebff;}#sk-container-id-2 input.sk-hidden--visually {border: 0;clip: rect(1px 1px 1px 1px);clip: rect(1px, 1px, 1px, 1px);height: 1px;margin: -1px;overflow: hidden;padding: 0;position: absolute;width: 1px;}#sk-container-id-2 div.sk-estimator {font-family: monospace;background-color: #f0f8ff;border: 1px dotted black;border-radius: 0.25em;box-sizing: border-box;margin-bottom: 0.5em;}#sk-container-id-2 div.sk-estimator:hover {background-color: #d4ebff;}#sk-container-id-2 div.sk-parallel-item::after {content: \"\";width: 100%;border-bottom: 1px solid gray;flex-grow: 1;}#sk-container-id-2 div.sk-label:hover label.sk-toggleable__label {background-color: #d4ebff;}#sk-container-id-2 div.sk-serial::before {content: \"\";position: absolute;border-left: 1px solid gray;box-sizing: border-box;top: 0;bottom: 0;left: 50%;z-index: 0;}#sk-container-id-2 div.sk-serial {display: flex;flex-direction: column;align-items: center;background-color: white;padding-right: 0.2em;padding-left: 0.2em;position: relative;}#sk-container-id-2 div.sk-item {position: relative;z-index: 1;}#sk-container-id-2 div.sk-parallel {display: flex;align-items: stretch;justify-content: center;background-color: white;position: relative;}#sk-container-id-2 div.sk-item::before, #sk-container-id-2 div.sk-parallel-item::before {content: \"\";position: absolute;border-left: 1px solid gray;box-sizing: border-box;top: 0;bottom: 0;left: 50%;z-index: -1;}#sk-container-id-2 div.sk-parallel-item {display: flex;flex-direction: column;z-index: 1;position: relative;background-color: white;}#sk-container-id-2 div.sk-parallel-item:first-child::after {align-self: flex-end;width: 50%;}#sk-container-id-2 div.sk-parallel-item:last-child::after {align-self: flex-start;width: 50%;}#sk-container-id-2 div.sk-parallel-item:only-child::after {width: 0;}#sk-container-id-2 div.sk-dashed-wrapped {border: 1px dashed gray;margin: 0 0.4em 0.5em 0.4em;box-sizing: border-box;padding-bottom: 0.4em;background-color: white;}#sk-container-id-2 div.sk-label label {font-family: monospace;font-weight: bold;display: inline-block;line-height: 1.2em;}#sk-container-id-2 div.sk-label-container {text-align: center;}#sk-container-id-2 div.sk-container {/* jupyter's `normalize.less` sets `[hidden] { display: none; }` but bootstrap.min.css set `[hidden] { display: none !important; }` so we also need the `!important` here to be able to override the default hidden behavior on the sphinx rendered scikit-learn.org. See: https://github.com/scikit-learn/scikit-learn/issues/21755 */display: inline-block !important;position: relative;}#sk-container-id-2 div.sk-text-repr-fallback {display: none;}</style><div id=\"sk-container-id-2\" class=\"sk-top-container\"><div class=\"sk-text-repr-fallback\"><pre>RandomForestClassifier()</pre><b>In a Jupyter environment, please rerun this cell to show the HTML representation or trust the notebook. <br />On GitHub, the HTML representation is unable to render, please try loading this page with nbviewer.org.</b></div><div class=\"sk-container\" hidden><div class=\"sk-item\"><div class=\"sk-estimator sk-toggleable\"><input class=\"sk-toggleable__control sk-hidden--visually\" id=\"sk-estimator-id-2\" type=\"checkbox\" checked><label for=\"sk-estimator-id-2\" class=\"sk-toggleable__label sk-toggleable__label-arrow\">RandomForestClassifier</label><div class=\"sk-toggleable__content\"><pre>RandomForestClassifier()</pre></div></div></div></div></div>"
      ],
      "text/plain": [
       "RandomForestClassifier()"
      ]
     },
     "execution_count": 31,
     "metadata": {},
     "output_type": "execute_result"
    }
   ],
   "source": [
    "from sklearn.ensemble import RandomForestClassifier\n",
    "rf = RandomForestClassifier()\n",
    "rf.fit(X_train_std_20, y_train_20)\n"
   ]
  },
  {
   "cell_type": "code",
   "execution_count": 32,
   "id": "c520bbf4-d687-4e90-83e1-8713a3eda582",
   "metadata": {},
   "outputs": [],
   "source": [
    "rf_y_pred = rf.predict(X_test_std_20)"
   ]
  },
  {
   "cell_type": "code",
   "execution_count": 33,
   "id": "4f0206a0-9238-4719-8d50-d6e17dcf9df3",
   "metadata": {},
   "outputs": [
    {
     "data": {
      "text/plain": [
       "array([ 8,  3,  7, ...,  3, 10,  7], dtype=int64)"
      ]
     },
     "execution_count": 33,
     "metadata": {},
     "output_type": "execute_result"
    }
   ],
   "source": [
    "rf_y_pred"
   ]
  },
  {
   "cell_type": "code",
   "execution_count": 34,
   "id": "47b07f0e-0f3d-468a-a051-df1c2ab921c8",
   "metadata": {},
   "outputs": [],
   "source": [
    "from sklearn.metrics import accuracy_score \n",
    "from sklearn.metrics import classification_report \n",
    "from sklearn.metrics import confusion_matrix "
   ]
  },
  {
   "cell_type": "code",
   "execution_count": 35,
   "id": "8d0e22d6-a1f1-4cd0-b560-cb63a3b5f7a3",
   "metadata": {},
   "outputs": [
    {
     "name": "stderr",
     "output_type": "stream",
     "text": [
      "C:\\conda\\lib\\site-packages\\sklearn\\metrics\\_classification.py:1469: UndefinedMetricWarning: Precision and F-score are ill-defined and being set to 0.0 in labels with no predicted samples. Use `zero_division` parameter to control this behavior.\n",
      "  _warn_prf(average, modifier, msg_start, len(result))\n",
      "C:\\conda\\lib\\site-packages\\sklearn\\metrics\\_classification.py:1469: UndefinedMetricWarning: Precision and F-score are ill-defined and being set to 0.0 in labels with no predicted samples. Use `zero_division` parameter to control this behavior.\n",
      "  _warn_prf(average, modifier, msg_start, len(result))\n"
     ]
    },
    {
     "name": "stdout",
     "output_type": "stream",
     "text": [
      "Classification Report for Random Forest: \n",
      "               precision    recall  f1-score   support\n",
      "\n",
      "           0       0.97      0.99      0.98      4512\n",
      "           1       0.47      0.35      0.40     11195\n",
      "           2       0.38      0.60      0.47     11661\n",
      "           3       0.28      0.24      0.25     11745\n",
      "           4       0.23      0.07      0.11     11343\n",
      "           5       0.85      0.93      0.89      8247\n",
      "           6       1.00      0.99      1.00     11940\n",
      "           7       0.46      0.73      0.57     11883\n",
      "           8       0.54      0.92      0.68     10868\n",
      "           9       0.73      0.22      0.34     10779\n",
      "          10       0.49      0.86      0.62     11756\n",
      "          11       0.80      0.04      0.07     11970\n",
      "          12       0.00      0.00      0.00         1\n",
      "\n",
      "    accuracy                           0.55    127900\n",
      "   macro avg       0.55      0.53      0.49    127900\n",
      "weighted avg       0.57      0.55      0.50    127900\n",
      "\n"
     ]
    },
    {
     "name": "stderr",
     "output_type": "stream",
     "text": [
      "C:\\conda\\lib\\site-packages\\sklearn\\metrics\\_classification.py:1469: UndefinedMetricWarning: Precision and F-score are ill-defined and being set to 0.0 in labels with no predicted samples. Use `zero_division` parameter to control this behavior.\n",
      "  _warn_prf(average, modifier, msg_start, len(result))\n"
     ]
    }
   ],
   "source": [
    "print(\"Classification Report for Random Forest: \\n\", classification_report(le.inverse_transform(y_test_20), le.inverse_transform(rf_y_pred)))"
   ]
  },
  {
   "cell_type": "code",
   "execution_count": 36,
   "id": "bcf65f56-37b2-489c-979e-978a6d0867fa",
   "metadata": {},
   "outputs": [
    {
     "name": "stdout",
     "output_type": "stream",
     "text": [
      "Random Forest Confusion: \n",
      " [[ 4477     1     0     0     0    34     0     0     0     0     0     0\n",
      "      0]\n",
      " [   31  3879  4347   107    18   536     5  2230     0     4    35     3\n",
      "      0]\n",
      " [    3    88  7042    28     2     2     0  4496     0     0     0     0\n",
      "      0]\n",
      " [    1  1210  4381  2776    88   257     0  2967     0     1    64     0\n",
      "      0]\n",
      " [    0  2273   155  7078   845   457     0   374     0     0   144    17\n",
      "      0]\n",
      " [   85   500     0     2     0  7638     0     2     2    15     3     0\n",
      "      0]\n",
      " [    2    83     0     5     0     0 11847     0     0     1     1     1\n",
      "      0]\n",
      " [    8   241  2424    52    15    34     1  8713     0     4   315    76\n",
      "      0]\n",
      " [    0     0     0     0     0     0     0     0 10002   866     0     0\n",
      "      0]\n",
      " [    2    11     0     0     0     0     0     0  8349  2417     0     0\n",
      "      0]\n",
      " [    1    21     0     8  1538     0     0     3     0     0 10167    18\n",
      "      0]\n",
      " [    0    34     0    28  1228     0     0     7     0     0 10212   461\n",
      "      0]\n",
      " [    0     0     0     0     0     1     0     0     0     0     0     0\n",
      "      0]]\n"
     ]
    }
   ],
   "source": [
    "rf_conf_mat = confusion_matrix(y_test_20, rf_y_pred)\n",
    "print(\"Random Forest Confusion: \\n\", rf_conf_mat)"
   ]
  },
  {
   "cell_type": "code",
   "execution_count": 37,
   "id": "261099ec-b46f-454b-b248-ea5ff0ccf785",
   "metadata": {},
   "outputs": [
    {
     "name": "stdout",
     "output_type": "stream",
     "text": [
      "Accuracy Score for Random_Forest: \n",
      " 54.93666927286943\n"
     ]
    }
   ],
   "source": [
    "acc_score = accuracy_score(y_test_20, rf_y_pred)\n",
    "print(\"Accuracy Score for Random_Forest: \\n\", acc_score*100)"
   ]
  },
  {
   "cell_type": "code",
   "execution_count": 38,
   "id": "08738fef-e5d8-4ce1-be22-4d4d733516c5",
   "metadata": {},
   "outputs": [
    {
     "name": "stdout",
     "output_type": "stream",
     "text": [
      "Random Forest model saved as: random_forest_model.pkl\n"
     ]
    }
   ],
   "source": [
    "import joblib\n",
    "\n",
    "# Save the trained model to a file\n",
    "model_filename = \"random_forest_model.pkl\"\n",
    "joblib.dump(rf, model_filename)\n",
    "\n",
    "print(\"Random Forest model saved as:\", model_filename)"
   ]
  },
  {
   "cell_type": "code",
   "execution_count": 39,
   "id": "422d7362-c6bb-405c-b5d3-a17b199d85d0",
   "metadata": {},
   "outputs": [
    {
     "name": "stdout",
     "output_type": "stream",
     "text": [
      "[LightGBM] [Warning] Auto-choosing row-wise multi-threading, the overhead of testing was 0.152244 seconds.\n",
      "You can set `force_row_wise=true` to remove the overhead.\n",
      "And if memory is not enough, you can set `force_col_wise=true`.\n",
      "[LightGBM] [Info] Total Bins 13410\n",
      "[LightGBM] [Info] Number of data points in the train set: 298431, number of used features: 67\n",
      "[LightGBM] [Info] Start training from score -3.353948\n",
      "[LightGBM] [Info] Start training from score -2.431826\n",
      "[LightGBM] [Info] Start training from score -2.387886\n",
      "[LightGBM] [Info] Start training from score -2.395064\n",
      "[LightGBM] [Info] Start training from score -2.423547\n",
      "[LightGBM] [Info] Start training from score -2.743628\n",
      "[LightGBM] [Info] Start training from score -2.385189\n",
      "[LightGBM] [Info] Start training from score -2.367514\n",
      "[LightGBM] [Info] Start training from score -2.453566\n",
      "[LightGBM] [Info] Start training from score -2.472687\n",
      "[LightGBM] [Info] Start training from score -2.385626\n",
      "[LightGBM] [Info] Start training from score -2.374438\n",
      "[LightGBM] [Info] Start training from score -10.996856\n",
      "[LightGBM] [Warning] No further splits with positive gain, best gain: -inf\n",
      "[LightGBM] [Warning] No further splits with positive gain, best gain: -inf\n",
      "[LightGBM] [Warning] No further splits with positive gain, best gain: -inf\n",
      "[LightGBM] [Warning] No further splits with positive gain, best gain: -inf\n",
      "[LightGBM] [Warning] No further splits with positive gain, best gain: -inf\n",
      "[LightGBM] [Warning] No further splits with positive gain, best gain: -inf\n",
      "[LightGBM] [Warning] No further splits with positive gain, best gain: -inf\n",
      "[LightGBM] [Warning] No further splits with positive gain, best gain: -inf\n",
      "[LightGBM] [Warning] No further splits with positive gain, best gain: -inf\n",
      "[LightGBM] [Warning] No further splits with positive gain, best gain: -inf\n",
      "[LightGBM] [Warning] No further splits with positive gain, best gain: -inf\n",
      "[LightGBM] [Warning] No further splits with positive gain, best gain: -inf\n",
      "[LightGBM] [Warning] No further splits with positive gain, best gain: -inf\n",
      "[LightGBM] [Warning] No further splits with positive gain, best gain: -inf\n",
      "[LightGBM] [Warning] No further splits with positive gain, best gain: -inf\n",
      "[LightGBM] [Warning] No further splits with positive gain, best gain: -inf\n",
      "[LightGBM] [Warning] No further splits with positive gain, best gain: -inf\n",
      "[LightGBM] [Warning] No further splits with positive gain, best gain: -inf\n",
      "[LightGBM] [Warning] No further splits with positive gain, best gain: -inf\n",
      "[LightGBM] [Warning] No further splits with positive gain, best gain: -inf\n",
      "[LightGBM] [Warning] No further splits with positive gain, best gain: -inf\n",
      "[LightGBM] [Warning] No further splits with positive gain, best gain: -inf\n",
      "[LightGBM] [Warning] No further splits with positive gain, best gain: -inf\n",
      "[LightGBM] [Warning] No further splits with positive gain, best gain: -inf\n",
      "[LightGBM] [Warning] No further splits with positive gain, best gain: -inf\n",
      "[LightGBM] [Warning] No further splits with positive gain, best gain: -inf\n",
      "[LightGBM] [Warning] No further splits with positive gain, best gain: -inf\n",
      "[LightGBM] [Warning] No further splits with positive gain, best gain: -inf\n",
      "[LightGBM] [Warning] No further splits with positive gain, best gain: -inf\n",
      "[LightGBM] [Warning] No further splits with positive gain, best gain: -inf\n",
      "[LightGBM] [Warning] No further splits with positive gain, best gain: -inf\n",
      "[LightGBM] [Warning] No further splits with positive gain, best gain: -inf\n",
      "[LightGBM] [Warning] No further splits with positive gain, best gain: -inf\n",
      "[LightGBM] [Warning] No further splits with positive gain, best gain: -inf\n",
      "[LightGBM] [Warning] No further splits with positive gain, best gain: -inf\n",
      "[LightGBM] [Warning] No further splits with positive gain, best gain: -inf\n",
      "[LightGBM] [Warning] No further splits with positive gain, best gain: -inf\n",
      "[LightGBM] [Warning] No further splits with positive gain, best gain: -inf\n",
      "[LightGBM] [Warning] No further splits with positive gain, best gain: -inf\n",
      "[LightGBM] [Warning] No further splits with positive gain, best gain: -inf\n",
      "[LightGBM] [Warning] No further splits with positive gain, best gain: -inf\n",
      "[LightGBM] [Warning] No further splits with positive gain, best gain: -inf\n",
      "[LightGBM] [Warning] No further splits with positive gain, best gain: -inf\n",
      "[LightGBM] [Warning] No further splits with positive gain, best gain: -inf\n",
      "[LightGBM] [Warning] No further splits with positive gain, best gain: -inf\n",
      "[LightGBM] [Warning] No further splits with positive gain, best gain: -inf\n",
      "[LightGBM] [Warning] No further splits with positive gain, best gain: -inf\n"
     ]
    },
    {
     "name": "stderr",
     "output_type": "stream",
     "text": [
      "C:\\conda\\lib\\site-packages\\sklearn\\metrics\\_classification.py:1469: UndefinedMetricWarning: Precision and F-score are ill-defined and being set to 0.0 in labels with no predicted samples. Use `zero_division` parameter to control this behavior.\n",
      "  _warn_prf(average, modifier, msg_start, len(result))\n"
     ]
    },
    {
     "name": "stdout",
     "output_type": "stream",
     "text": [
      "Classification Report for LightGBM: \n",
      "               precision    recall  f1-score   support\n",
      "\n",
      "           0       0.29      0.36      0.32      4512\n",
      "           1       0.37      0.01      0.02     11195\n",
      "           2       0.00      0.00      0.00     11661\n",
      "           3       0.00      0.00      0.00     11745\n",
      "           4       0.16      0.83      0.27     11343\n",
      "           5       0.64      0.02      0.03      8247\n",
      "           6       0.06      0.00      0.00     11940\n",
      "           7       0.01      0.00      0.00     11883\n",
      "           8       0.26      0.83      0.40     10868\n",
      "           9       0.97      0.09      0.17     10779\n",
      "          10       0.13      0.07      0.10     11756\n",
      "          11       0.00      0.00      0.00     11970\n",
      "          12       0.00      0.00      0.00         1\n",
      "\n",
      "    accuracy                           0.17    127900\n",
      "   macro avg       0.22      0.17      0.10    127900\n",
      "weighted avg       0.22      0.17      0.10    127900\n",
      "\n"
     ]
    },
    {
     "name": "stderr",
     "output_type": "stream",
     "text": [
      "C:\\conda\\lib\\site-packages\\sklearn\\metrics\\_classification.py:1469: UndefinedMetricWarning: Precision and F-score are ill-defined and being set to 0.0 in labels with no predicted samples. Use `zero_division` parameter to control this behavior.\n",
      "  _warn_prf(average, modifier, msg_start, len(result))\n",
      "C:\\conda\\lib\\site-packages\\sklearn\\metrics\\_classification.py:1469: UndefinedMetricWarning: Precision and F-score are ill-defined and being set to 0.0 in labels with no predicted samples. Use `zero_division` parameter to control this behavior.\n",
      "  _warn_prf(average, modifier, msg_start, len(result))\n"
     ]
    }
   ],
   "source": [
    "import lightgbm as lgb\n",
    "lg = lgb.LGBMClassifier()\n",
    "lg.fit(X_train_std_20, y_train_20)\n",
    "\n",
    "lg_y_pred = lg.predict(X_test_std_20)\n",
    "\n",
    "# Cell 9: Evaluate results\n",
    "from sklearn.metrics import classification_report\n",
    "print(\"Classification Report for LightGBM: \\n\", classification_report(le.inverse_transform(y_test_20), le.inverse_transform(lg_y_pred)))"
   ]
  },
  {
   "cell_type": "code",
   "execution_count": null,
   "id": "0a161941-163e-4057-99f8-66b0749afcfb",
   "metadata": {},
   "outputs": [],
   "source": []
  }
 ],
 "metadata": {
  "kernelspec": {
   "display_name": "Python 3 (ipykernel)",
   "language": "python",
   "name": "python3"
  },
  "language_info": {
   "codemirror_mode": {
    "name": "ipython",
    "version": 3
   },
   "file_extension": ".py",
   "mimetype": "text/x-python",
   "name": "python",
   "nbconvert_exporter": "python",
   "pygments_lexer": "ipython3",
   "version": "3.8.16"
  }
 },
 "nbformat": 4,
 "nbformat_minor": 5
}
